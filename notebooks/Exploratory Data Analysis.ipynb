{
 "cells": [
  {
   "cell_type": "code",
   "execution_count": 1,
   "id": "b331aa11-7172-410e-a777-b9cf55dd4fbe",
   "metadata": {},
   "outputs": [
    {
     "name": "stdout",
     "output_type": "stream",
     "text": [
      "fatal: not a git repository (or any parent up to mount point /mnt/batch/tasks/shared/LS_root/mounts/clusters/rubchume1)\n",
      "Stopping at filesystem boundary (GIT_DISCOVERY_ACROSS_FILESYSTEM not set).\n"
     ]
    }
   ],
   "source": [
    "!git rev-parse --show-toplevel"
   ]
  },
  {
   "cell_type": "markdown",
   "id": "fe55407e-d911-4239-a468-7fd69528b704",
   "metadata": {},
   "source": [
    "# Setup"
   ]
  },
  {
   "cell_type": "markdown",
   "id": "a9aca713-1f50-418b-9fbd-4fe4283ae3c6",
   "metadata": {},
   "source": [
    "# Import "
   ]
  },
  {
   "cell_type": "markdown",
   "id": "bc01db0a-206b-405e-858c-8de2efa997e8",
   "metadata": {},
   "source": [
    "# Explore demographic data"
   ]
  }
 ],
 "metadata": {
  "kernelspec": {
   "display_name": "salesreinforcervenv",
   "language": "python",
   "name": "salesreinforcervenv"
  },
  "language_info": {
   "codemirror_mode": {
    "name": "ipython",
    "version": 3
   },
   "file_extension": ".py",
   "mimetype": "text/x-python",
   "name": "python",
   "nbconvert_exporter": "python",
   "pygments_lexer": "ipython3",
   "version": "3.12.0"
  }
 },
 "nbformat": 4,
 "nbformat_minor": 5
}
